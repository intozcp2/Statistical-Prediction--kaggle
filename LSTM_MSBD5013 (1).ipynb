{
  "cells": [
    {
      "cell_type": "code",
      "source": [
        "import tensorflow as tf\n",
        "device_name = tf.test.gpu_device_name()\n",
        "if device_name != '/device:GPU:0':\n",
        "  raise SystemError('GPU device not found')\n",
        "print('Found GPU at: {}'.format(device_name))"
      ],
      "outputs": [
        {
          "output_type": "stream",
          "name": "stdout",
          "text": [
            "Found GPU at: /device:GPU:0\n"
          ]
        }
      ],
      "execution_count": 1,
      "metadata": {
        "colab": {
          "base_uri": "https://localhost:8080/"
        },
        "id": "HRowXOP8yzjx",
        "outputId": "d57509ec-2552-489e-bdda-bcc8f7519057",
        "gather": {
          "logged": 1618713079989
        }
      }
    },
    {
      "cell_type": "code",
      "source": [
        "import numpy as np\n",
        "import os\n",
        "import pandas as pd\n",
        "import matplotlib.pylab as plt\n",
        "%matplotlib inline\n",
        "from sklearn.model_selection import train_test_split,KFold,cross_val_score,StratifiedKFold\n",
        "from tensorflow.python.keras.models import Sequential,load_model\n",
        "from tensorflow.python.keras.callbacks import EarlyStopping,ModelCheckpoint\n",
        "from tensorflow.python.keras.losses import MeanAbsoluteError\n",
        "from tensorflow.python.keras.preprocessing.sequence import TimeseriesGenerator\n",
        "from sklearn.preprocessing import MinMaxScaler\n",
        "from tensorflow.python.keras.layers import Activation, Dense,Flatten,LSTM,Dropout,LeakyReLU,BatchNormalization, Bidirectional\n",
        "from tensorflow.compat.v1.keras.layers import CuDNNLSTM"
      ],
      "outputs": [],
      "execution_count": 2,
      "metadata": {
        "id": "M99UKos6eQgb",
        "gather": {
          "logged": 1618713080517
        }
      }
    },
    {
      "cell_type": "code",
      "source": [
        "df_train = pd.read_csv('training.csv', index_col = 1, parse_dates = True)\n",
        "df_test = pd.read_csv('testing.csv', index_col = 1, parse_dates = True)"
      ],
      "outputs": [],
      "execution_count": 3,
      "metadata": {
        "id": "QwdiBmPf2W4x",
        "gather": {
          "logged": 1618713122314
        }
      }
    },
    {
      "cell_type": "code",
      "source": [
        "df_test=df_test.reset_index()\n",
        "df_test[\"id\"] = pd.to_numeric(df_test[\"id\"], downcast=\"float\")\n",
        "df_test=df_test.set_index('id')"
      ],
      "outputs": [],
      "execution_count": 4,
      "metadata": {
        "id": "uygCO9ombGtE",
        "gather": {
          "logged": 1618713122568
        }
      }
    },
    {
      "cell_type": "code",
      "source": [
        "indices = list(range(4892866, 5755479))\n",
        "for x in [5524547, 5524548, 5524549]:\n",
        "    indices.remove(x)"
      ],
      "outputs": [],
      "execution_count": 5,
      "metadata": {
        "id": "ySNZLnu_dz1J",
        "gather": {
          "logged": 1618713122709
        }
      }
    },
    {
      "cell_type": "code",
      "source": [
        "missed = df_test.drop(index=indices)"
      ],
      "outputs": [],
      "execution_count": 6,
      "metadata": {
        "id": "yioNzyHAZBJS",
        "gather": {
          "logged": 1618713122847
        }
      }
    },
    {
      "cell_type": "code",
      "source": [
        "import datetime\n",
        "missed.time = missed.time + datetime.timedelta(0,60)"
      ],
      "outputs": [],
      "execution_count": 7,
      "metadata": {
        "id": "Zo8vPY1ceUcE",
        "gather": {
          "logged": 1618713122974
        }
      }
    },
    {
      "cell_type": "code",
      "source": [
        "missed.reset_index(inplace = True)"
      ],
      "outputs": [],
      "execution_count": 8,
      "metadata": {
        "id": "IsNP4R4wnvxb",
        "gather": {
          "logged": 1618713123058
        }
      }
    },
    {
      "cell_type": "code",
      "source": [
        "missed['id'] = missed['id'].replace([5524547,5524548,5524549],5524550.5)"
      ],
      "outputs": [],
      "execution_count": 9,
      "metadata": {
        "id": "ITZVWetm6dxg",
        "gather": {
          "logged": 1618713123180
        }
      }
    },
    {
      "cell_type": "code",
      "source": [
        "df_test_d=df_test.reset_index()\n",
        "df_test_n = pd.concat([df_test_d,missed], axis=0)"
      ],
      "outputs": [],
      "execution_count": 10,
      "metadata": {
        "id": "R55PZDzymKJw",
        "gather": {
          "logged": 1618713123332
        }
      }
    },
    {
      "cell_type": "code",
      "source": [
        "df_test_n= df_test_n.set_index('id')"
      ],
      "outputs": [],
      "execution_count": 11,
      "metadata": {
        "id": "teisx8Ch7FE6",
        "gather": {
          "logged": 1618713123445
        }
      }
    },
    {
      "cell_type": "code",
      "source": [
        "df_test_n = df_test_n.sort_index()"
      ],
      "outputs": [],
      "execution_count": 12,
      "metadata": {
        "id": "njq8YV5s6WXb",
        "gather": {
          "logged": 1618713123525
        }
      }
    },
    {
      "cell_type": "code",
      "source": [
        "df_test = df_test_n.reset_index().set_index('time')"
      ],
      "outputs": [],
      "execution_count": 13,
      "metadata": {
        "id": "MdPTioRG-i6u",
        "gather": {
          "logged": 1618713123650
        }
      }
    },
    {
      "cell_type": "code",
      "source": [
        "df_train = df_train.drop([\"id\"],axis=1)\n",
        "df_test = df_test.drop([\"id\"],axis=1)\n",
        "df_train.head(5)"
      ],
      "outputs": [
        {
          "output_type": "execute_result",
          "execution_count": 14,
          "data": {
            "text/plain": "                              name     Open     High      Low    Close  \\\ntime                                                                     \n2018-05-04 08:12:00+00:00  BTCUSDT  9727.90  9750.00  9727.90  9745.56   \n2018-05-04 08:12:00+00:00  ETHUSDT   789.08   791.00   789.08   790.93   \n2018-05-04 08:12:00+00:00  LTCUSDT   160.70   161.36   160.52   161.06   \n2018-05-04 08:12:00+00:00  XRPUSDT     0.50     0.50     0.50     0.50   \n2018-05-04 08:13:00+00:00  BTCUSDT  9745.56  9750.00  9727.93  9749.92   \n\n                               Volume  Quote asset volume  Number of trades  \\\ntime                                                                          \n2018-05-04 08:12:00+00:00   52.086680       507447.897326               454   \n2018-05-04 08:12:00+00:00  407.544770       322084.533567               379   \n2018-05-04 08:12:00+00:00  208.470510        33554.990241                76   \n2018-05-04 08:12:00+00:00  109.510000           54.755000                 1   \n2018-05-04 08:13:00+00:00   32.882566       320490.457569               486   \n\n                           Taker buy base asset volume  \\\ntime                                                     \n2018-05-04 08:12:00+00:00                    39.258336   \n2018-05-04 08:12:00+00:00                   303.069270   \n2018-05-04 08:12:00+00:00                   193.770360   \n2018-05-04 08:12:00+00:00                     0.000000   \n2018-05-04 08:13:00+00:00                    21.424235   \n\n                           Taker buy quote asset volume    target  \ntime                                                               \n2018-05-04 08:12:00+00:00                 382501.194936  0.005881  \n2018-05-04 08:12:00+00:00                 239530.381621  0.004171  \n2018-05-04 08:12:00+00:00                  31190.987887  0.010191  \n2018-05-04 08:12:00+00:00                      0.000000  0.252573  \n2018-05-04 08:13:00+00:00                 208845.957751  0.005537  ",
            "text/html": "<div>\n<style scoped>\n    .dataframe tbody tr th:only-of-type {\n        vertical-align: middle;\n    }\n\n    .dataframe tbody tr th {\n        vertical-align: top;\n    }\n\n    .dataframe thead th {\n        text-align: right;\n    }\n</style>\n<table border=\"1\" class=\"dataframe\">\n  <thead>\n    <tr style=\"text-align: right;\">\n      <th></th>\n      <th>name</th>\n      <th>Open</th>\n      <th>High</th>\n      <th>Low</th>\n      <th>Close</th>\n      <th>Volume</th>\n      <th>Quote asset volume</th>\n      <th>Number of trades</th>\n      <th>Taker buy base asset volume</th>\n      <th>Taker buy quote asset volume</th>\n      <th>target</th>\n    </tr>\n    <tr>\n      <th>time</th>\n      <th></th>\n      <th></th>\n      <th></th>\n      <th></th>\n      <th></th>\n      <th></th>\n      <th></th>\n      <th></th>\n      <th></th>\n      <th></th>\n      <th></th>\n    </tr>\n  </thead>\n  <tbody>\n    <tr>\n      <th>2018-05-04 08:12:00+00:00</th>\n      <td>BTCUSDT</td>\n      <td>9727.90</td>\n      <td>9750.00</td>\n      <td>9727.90</td>\n      <td>9745.56</td>\n      <td>52.086680</td>\n      <td>507447.897326</td>\n      <td>454</td>\n      <td>39.258336</td>\n      <td>382501.194936</td>\n      <td>0.005881</td>\n    </tr>\n    <tr>\n      <th>2018-05-04 08:12:00+00:00</th>\n      <td>ETHUSDT</td>\n      <td>789.08</td>\n      <td>791.00</td>\n      <td>789.08</td>\n      <td>790.93</td>\n      <td>407.544770</td>\n      <td>322084.533567</td>\n      <td>379</td>\n      <td>303.069270</td>\n      <td>239530.381621</td>\n      <td>0.004171</td>\n    </tr>\n    <tr>\n      <th>2018-05-04 08:12:00+00:00</th>\n      <td>LTCUSDT</td>\n      <td>160.70</td>\n      <td>161.36</td>\n      <td>160.52</td>\n      <td>161.06</td>\n      <td>208.470510</td>\n      <td>33554.990241</td>\n      <td>76</td>\n      <td>193.770360</td>\n      <td>31190.987887</td>\n      <td>0.010191</td>\n    </tr>\n    <tr>\n      <th>2018-05-04 08:12:00+00:00</th>\n      <td>XRPUSDT</td>\n      <td>0.50</td>\n      <td>0.50</td>\n      <td>0.50</td>\n      <td>0.50</td>\n      <td>109.510000</td>\n      <td>54.755000</td>\n      <td>1</td>\n      <td>0.000000</td>\n      <td>0.000000</td>\n      <td>0.252573</td>\n    </tr>\n    <tr>\n      <th>2018-05-04 08:13:00+00:00</th>\n      <td>BTCUSDT</td>\n      <td>9745.56</td>\n      <td>9750.00</td>\n      <td>9727.93</td>\n      <td>9749.92</td>\n      <td>32.882566</td>\n      <td>320490.457569</td>\n      <td>486</td>\n      <td>21.424235</td>\n      <td>208845.957751</td>\n      <td>0.005537</td>\n    </tr>\n  </tbody>\n</table>\n</div>"
          },
          "metadata": {}
        }
      ],
      "execution_count": 14,
      "metadata": {
        "colab": {
          "base_uri": "https://localhost:8080/",
          "height": 380
        },
        "id": "HSYj0LpGf9iL",
        "outputId": "2ecaaee8-590f-4d60-df70-930e56171fe8",
        "gather": {
          "logged": 1618713123781
        }
      }
    },
    {
      "cell_type": "code",
      "source": [
        "def feature_adding (df):\n",
        "  for i in df: \n",
        "    kwargs = {'Day_diff': lambda df1: (df1['Close']-df1['Open'])/df1['Open'],\n",
        "              'Close_off_high': lambda x: 2*(x['High']- x['Close'])/(x['High']-x['Low'])-1,\n",
        "              'Volatility': lambda x: (x['High']- x['Low'])/(x['Open'])\n",
        "            }\n",
        "    df = df.assign(**kwargs)\n",
        "  return df"
      ],
      "outputs": [],
      "execution_count": 15,
      "metadata": {
        "id": "qFyIS-kOulZ-",
        "gather": {
          "logged": 1618713123856
        }
      }
    },
    {
      "cell_type": "code",
      "source": [
        "df_train = feature_adding(df_train)\n",
        "df_test = feature_adding(df_test)"
      ],
      "outputs": [],
      "execution_count": 16,
      "metadata": {
        "id": "34NRJholv1X-",
        "gather": {
          "logged": 1618713128650
        }
      }
    },
    {
      "cell_type": "code",
      "source": [
        "df_train = df_train.fillna(0)\n",
        "df_test =df_test.fillna(0)"
      ],
      "outputs": [],
      "execution_count": 17,
      "metadata": {
        "id": "sijZSx7Ck2NY",
        "gather": {
          "logged": 1618713129200
        }
      }
    },
    {
      "cell_type": "code",
      "source": [
        "col_name=\"target\"\n",
        "first_col = df_train.pop(col_name)"
      ],
      "outputs": [],
      "execution_count": 18,
      "metadata": {
        "id": "e3hVEBZrsC9r",
        "gather": {
          "logged": 1618713129373
        }
      }
    },
    {
      "cell_type": "code",
      "source": [
        "df_train.insert(13, col_name, first_col)"
      ],
      "outputs": [],
      "execution_count": 19,
      "metadata": {
        "id": "5l53BAY4sRdD",
        "gather": {
          "logged": 1618713129483
        }
      }
    },
    {
      "cell_type": "code",
      "source": [
        "df_train.info()"
      ],
      "outputs": [
        {
          "output_type": "stream",
          "name": "stdout",
          "text": [
            "<class 'pandas.core.frame.DataFrame'>\n",
            "DatetimeIndex: 4892865 entries, 2018-05-04 08:12:00+00:00 to 2020-09-02 21:09:00+00:00\n",
            "Data columns (total 14 columns):\n",
            "name                            object\n",
            "Open                            float64\n",
            "High                            float64\n",
            "Low                             float64\n",
            "Close                           float64\n",
            "Volume                          float64\n",
            "Quote asset volume              float64\n",
            "Number of trades                int64\n",
            "Taker buy base asset volume     float64\n",
            "Taker buy quote asset volume    float64\n",
            "Day_diff                        float64\n",
            "Close_off_high                  float64\n",
            "Volatility                      float64\n",
            "target                          float64\n",
            "dtypes: float64(12), int64(1), object(1)\n",
            "memory usage: 559.9+ MB\n"
          ]
        }
      ],
      "execution_count": 20,
      "metadata": {
        "colab": {
          "base_uri": "https://localhost:8080/"
        },
        "id": "uOXW-Yrxs1nX",
        "outputId": "9f648cdc-8405-4f91-948f-511ee7575b77",
        "gather": {
          "logged": 1618713129873
        }
      }
    },
    {
      "cell_type": "code",
      "source": [
        "df_test.info()"
      ],
      "outputs": [
        {
          "output_type": "stream",
          "name": "stdout",
          "text": [
            "<class 'pandas.core.frame.DataFrame'>\n",
            "DatetimeIndex: 862616 entries, 2020-09-02 21:10:00+00:00 to 2021-01-30 21:10:00+00:00\n",
            "Data columns (total 13 columns):\n",
            "name                            862616 non-null object\n",
            "Open                            862616 non-null float64\n",
            "High                            862616 non-null float64\n",
            "Low                             862616 non-null float64\n",
            "Close                           862616 non-null float64\n",
            "Volume                          862616 non-null float64\n",
            "Quote asset volume              862616 non-null float64\n",
            "Number of trades                862616 non-null int64\n",
            "Taker buy base asset volume     862616 non-null float64\n",
            "Taker buy quote asset volume    862616 non-null float64\n",
            "Day_diff                        862616 non-null float64\n",
            "Close_off_high                  862616 non-null float64\n",
            "Volatility                      862616 non-null float64\n",
            "dtypes: float64(11), int64(1), object(1)\n",
            "memory usage: 92.1+ MB\n"
          ]
        }
      ],
      "execution_count": 21,
      "metadata": {
        "collapsed": true,
        "jupyter": {
          "source_hidden": false,
          "outputs_hidden": false
        },
        "nteract": {
          "transient": {
            "deleting": false
          }
        },
        "gather": {
          "logged": 1618713130043
        }
      }
    },
    {
      "cell_type": "code",
      "source": [
        "df1= df_train.loc[df_train['name'] == \"BTCUSDT\"]\n",
        "df2= df_train.loc[df_train['name'] == \"ETHUSDT\"]\n",
        "df3= df_train.loc[df_train['name'] == \"LTCUSDT\"]\n",
        "df4= df_train.loc[df_train['name'] == \"XRPUSDT\"]"
      ],
      "outputs": [],
      "execution_count": 22,
      "metadata": {
        "id": "H8dCY0_r7qfH",
        "gather": {
          "logged": 1618713131334
        }
      }
    },
    {
      "cell_type": "code",
      "source": [
        "column_types={'time','Open','High','Low','Close','Volume','Quote asset volume',\n",
        "              'Number of trades','Taker buy base asset volume',\n",
        "              'Taker buy quote asset volume'}"
      ],
      "outputs": [],
      "execution_count": 23,
      "metadata": {
        "id": "m06fDdaBLswp",
        "gather": {
          "logged": 1618713131415
        }
      }
    },
    {
      "cell_type": "code",
      "source": [
        "df1 = df1.reset_index().drop_duplicates(subset=column_types,keep='first').set_index('time')\n",
        "df2 = df2.reset_index().drop_duplicates(subset=column_types,keep='first').set_index('time')\n",
        "df3 = df3.reset_index().drop_duplicates(subset=column_types,keep='first').set_index('time')\n",
        "df4 = df4.reset_index().drop_duplicates(subset=column_types,keep='first').set_index('time') "
      ],
      "outputs": [],
      "execution_count": 24,
      "metadata": {
        "id": "E3N8mvKhCtlu",
        "gather": {
          "logged": 1618713140437
        }
      }
    },
    {
      "cell_type": "code",
      "source": [
        "df_BTC= df_test.loc[df_test['name'] == \"BTCUSDT\"]\n",
        "df_ETH= df_test.loc[df_test['name'] == \"ETHUSDT\"]\n",
        "df_LTC= df_test.loc[df_test['name'] == \"LTCUSDT\"]\n",
        "df_XRP= df_test.loc[df_test['name'] == \"XRPUSDT\"]"
      ],
      "outputs": [],
      "execution_count": 25,
      "metadata": {
        "id": "noLC8Fn15ZCo",
        "gather": {
          "logged": 1618713140658
        }
      }
    },
    {
      "cell_type": "code",
      "source": [
        "df_BTC.info()"
      ],
      "outputs": [
        {
          "output_type": "stream",
          "name": "stdout",
          "text": [
            "<class 'pandas.core.frame.DataFrame'>\n",
            "DatetimeIndex: 215654 entries, 2020-09-02 21:10:00+00:00 to 2021-01-30 21:10:00+00:00\n",
            "Data columns (total 13 columns):\n",
            "name                            215654 non-null object\n",
            "Open                            215654 non-null float64\n",
            "High                            215654 non-null float64\n",
            "Low                             215654 non-null float64\n",
            "Close                           215654 non-null float64\n",
            "Volume                          215654 non-null float64\n",
            "Quote asset volume              215654 non-null float64\n",
            "Number of trades                215654 non-null int64\n",
            "Taker buy base asset volume     215654 non-null float64\n",
            "Taker buy quote asset volume    215654 non-null float64\n",
            "Day_diff                        215654 non-null float64\n",
            "Close_off_high                  215654 non-null float64\n",
            "Volatility                      215654 non-null float64\n",
            "dtypes: float64(11), int64(1), object(1)\n",
            "memory usage: 23.0+ MB\n"
          ]
        }
      ],
      "execution_count": 26,
      "metadata": {
        "collapsed": true,
        "jupyter": {
          "source_hidden": false,
          "outputs_hidden": false
        },
        "nteract": {
          "transient": {
            "deleting": false
          }
        },
        "gather": {
          "logged": 1618713140773
        }
      }
    },
    {
      "cell_type": "code",
      "source": [
        "rand_df1= df1.sample(frac=0.05, replace=False, random_state=1)\n",
        "rand_df2= df2.sample(frac=0.05, replace=False, random_state=1)\n",
        "rand_df3= df3.sample(frac=0.05, replace=False, random_state=1)\n",
        "rand_df4= df4.sample(frac=0.05, replace=False, random_state=1)"
      ],
      "outputs": [],
      "execution_count": 27,
      "metadata": {
        "id": "J_yXTegSeT00",
        "gather": {
          "logged": 1618713140927
        }
      }
    },
    {
      "cell_type": "code",
      "source": [
        "rand_df1[['Close','Quote asset volume','Number of trades','Taker buy base asset volume','Day_diff','Close_off_high','Volatility']].plot(subplots=True)"
      ],
      "outputs": [
        {
          "output_type": "stream",
          "name": "stderr",
          "text": [
            "/anaconda/envs/azureml_py36/lib/python3.6/site-packages/pandas/plotting/_matplotlib/tools.py:307: MatplotlibDeprecationWarning: \n",
            "The rowNum attribute was deprecated in Matplotlib 3.2 and will be removed two minor releases later. Use ax.get_subplotspec().rowspan.start instead.\n",
            "  layout[ax.rowNum, ax.colNum] = ax.get_visible()\n",
            "/anaconda/envs/azureml_py36/lib/python3.6/site-packages/pandas/plotting/_matplotlib/tools.py:307: MatplotlibDeprecationWarning: \n",
            "The colNum attribute was deprecated in Matplotlib 3.2 and will be removed two minor releases later. Use ax.get_subplotspec().colspan.start instead.\n",
            "  layout[ax.rowNum, ax.colNum] = ax.get_visible()\n",
            "/anaconda/envs/azureml_py36/lib/python3.6/site-packages/pandas/plotting/_matplotlib/tools.py:313: MatplotlibDeprecationWarning: \n",
            "The rowNum attribute was deprecated in Matplotlib 3.2 and will be removed two minor releases later. Use ax.get_subplotspec().rowspan.start instead.\n",
            "  if not layout[ax.rowNum + 1, ax.colNum]:\n",
            "/anaconda/envs/azureml_py36/lib/python3.6/site-packages/pandas/plotting/_matplotlib/tools.py:313: MatplotlibDeprecationWarning: \n",
            "The colNum attribute was deprecated in Matplotlib 3.2 and will be removed two minor releases later. Use ax.get_subplotspec().colspan.start instead.\n",
            "  if not layout[ax.rowNum + 1, ax.colNum]:\n",
            "/anaconda/envs/azureml_py36/lib/python3.6/site-packages/pandas/plotting/_matplotlib/tools.py:307: MatplotlibDeprecationWarning: \n",
            "The rowNum attribute was deprecated in Matplotlib 3.2 and will be removed two minor releases later. Use ax.get_subplotspec().rowspan.start instead.\n",
            "  layout[ax.rowNum, ax.colNum] = ax.get_visible()\n",
            "/anaconda/envs/azureml_py36/lib/python3.6/site-packages/pandas/plotting/_matplotlib/tools.py:307: MatplotlibDeprecationWarning: \n",
            "The colNum attribute was deprecated in Matplotlib 3.2 and will be removed two minor releases later. Use ax.get_subplotspec().colspan.start instead.\n",
            "  layout[ax.rowNum, ax.colNum] = ax.get_visible()\n",
            "/anaconda/envs/azureml_py36/lib/python3.6/site-packages/pandas/plotting/_matplotlib/tools.py:313: MatplotlibDeprecationWarning: \n",
            "The rowNum attribute was deprecated in Matplotlib 3.2 and will be removed two minor releases later. Use ax.get_subplotspec().rowspan.start instead.\n",
            "  if not layout[ax.rowNum + 1, ax.colNum]:\n",
            "/anaconda/envs/azureml_py36/lib/python3.6/site-packages/pandas/plotting/_matplotlib/tools.py:313: MatplotlibDeprecationWarning: \n",
            "The colNum attribute was deprecated in Matplotlib 3.2 and will be removed two minor releases later. Use ax.get_subplotspec().colspan.start instead.\n",
            "  if not layout[ax.rowNum + 1, ax.colNum]:\n"
          ]
        },
        {
          "output_type": "execute_result",
          "execution_count": 28,
          "data": {
            "text/plain": "array([<matplotlib.axes._subplots.AxesSubplot object at 0x7fd7e9f22278>,\n       <matplotlib.axes._subplots.AxesSubplot object at 0x7fd7e7bf28d0>,\n       <matplotlib.axes._subplots.AxesSubplot object at 0x7fd7e7c2a8d0>,\n       <matplotlib.axes._subplots.AxesSubplot object at 0x7fd7e7bdd8d0>,\n       <matplotlib.axes._subplots.AxesSubplot object at 0x7fd7e7b918d0>,\n       <matplotlib.axes._subplots.AxesSubplot object at 0x7fd7e7b468d0>,\n       <matplotlib.axes._subplots.AxesSubplot object at 0x7fd7e7afb8d0>],\n      dtype=object)"
          },
          "metadata": {}
        },
        {
          "output_type": "display_data",
          "data": {
            "text/plain": "<Figure size 432x288 with 7 Axes>",
            "image/png": "[encoded data removed]"
          },
          "metadata": {
            "needs_background": "light"
          }
        }
      ],
      "execution_count": 28,
      "metadata": {
        "colab": {
          "base_uri": "https://localhost:8080/",
          "height": 411
        },
        "id": "Rxh7_5GauHck",
        "outputId": "56a85fb8-634b-4965-8e3c-10e45c1e6f4d",
        "gather": {
          "logged": 1618713144882
        }
      }
    },
    {
      "cell_type": "markdown",
      "source": [
        "## MinMaxScaler"
      ],
      "metadata": {
        "id": "1jocsXfH0zu_"
      }
    },
    {
      "cell_type": "code",
      "source": [
        "copy_df1 = rand_df1.drop([\"name\"],axis=1)\n",
        "copy_df2 = rand_df2.drop([\"name\"],axis=1)\n",
        "copy_df3 = rand_df3.drop([\"name\"],axis=1)\n",
        "copy_df4 = rand_df4.drop([\"name\"],axis=1)"
      ],
      "outputs": [],
      "execution_count": 29,
      "metadata": {
        "id": "Py30gkKpfy-v",
        "gather": {
          "logged": 1618713144962
        }
      }
    },
    {
      "cell_type": "code",
      "source": [
        "x_BTCUSDT=np.array(copy_df1.drop([\"target\"],axis=1))\n",
        "x_ETHUSDT=np.array(copy_df2.drop([\"target\"],axis=1))\n",
        "x_LTCUSDT=np.array(copy_df3.drop([\"target\"],axis=1))\n",
        "x_XRPUSDT=np.array(copy_df4.drop([\"target\"],axis=1))"
      ],
      "outputs": [],
      "execution_count": 30,
      "metadata": {
        "id": "7UB6aQfQo7eg",
        "gather": {
          "logged": 1618713145090
        }
      }
    },
    {
      "cell_type": "code",
      "source": [
        "dataset_x = np.concatenate((x_BTCUSDT, x_ETHUSDT, x_LTCUSDT,x_XRPUSDT), axis = 1)"
      ],
      "outputs": [],
      "execution_count": 31,
      "metadata": {
        "id": "0XWNxqvC2o3K",
        "gather": {
          "logged": 1618713145214
        }
      }
    },
    {
      "cell_type": "code",
      "source": [
        "scaler=MinMaxScaler()\n",
        "normalized_feature = scaler.fit_transform(dataset_x)"
      ],
      "outputs": [],
      "execution_count": 32,
      "metadata": {
        "id": "eyPUoGsf0wnH",
        "gather": {
          "logged": 1618713145297
        }
      }
    },
    {
      "cell_type": "code",
      "source": [
        "y_BTCUSDT=np.array(copy_df1[[\"target\"]])\n",
        "y_ETHUSDT=np.array(copy_df2[[\"target\"]])\n",
        "y_LTCUSDT=np.array(copy_df3[[\"target\"]])\n",
        "y_XRPUSDT=np.array(copy_df4[[\"target\"]])\n",
        "\n",
        "dataset_y = np.concatenate((y_BTCUSDT, y_ETHUSDT, y_LTCUSDT,y_XRPUSDT), axis = 1)"
      ],
      "outputs": [],
      "execution_count": 33,
      "metadata": {
        "id": "gjjA-jGppL4u",
        "gather": {
          "logged": 1618713145422
        }
      }
    },
    {
      "cell_type": "code",
      "source": [
        "normalized_target = dataset_y.copy()"
      ],
      "outputs": [],
      "execution_count": 34,
      "metadata": {
        "collapsed": true,
        "jupyter": {
          "source_hidden": false,
          "outputs_hidden": false
        },
        "nteract": {
          "transient": {
            "deleting": false
          }
        },
        "gather": {
          "logged": 1618713145549
        }
      }
    },
    {
      "cell_type": "code",
      "source": [
        "test_BTCUSDT=np.array(df_BTC.drop([\"name\"],axis=1))\n",
        "test_ETHUSDT=np.array(df_ETH.drop([\"name\"],axis=1))\n",
        "test_LTCUSDT=np.array(df_LTC.drop([\"name\"],axis=1))\n",
        "test_XRPUSDT=np.array(df_XRP.drop([\"name\"],axis=1))"
      ],
      "outputs": [],
      "execution_count": 35,
      "metadata": {
        "id": "Rz1HL-DxJdvC",
        "gather": {
          "logged": 1618713145628
        }
      }
    },
    {
      "cell_type": "code",
      "source": [
        "dataset_test = np.concatenate((test_BTCUSDT, test_ETHUSDT, test_LTCUSDT,test_XRPUSDT), axis = 1)\n",
        "normalized_test = scaler.fit_transform(dataset_test)"
      ],
      "outputs": [],
      "execution_count": 36,
      "metadata": {
        "id": "AFAaj_7TJubf",
        "gather": {
          "logged": 1618713145798
        }
      }
    },
    {
      "cell_type": "code",
      "source": [
        "look_arr = normalized_test[-60*12*5:]"
      ],
      "outputs": [],
      "execution_count": 56,
      "metadata": {
        "collapsed": true,
        "jupyter": {
          "source_hidden": false,
          "outputs_hidden": false
        },
        "nteract": {
          "transient": {
            "deleting": false
          }
        },
        "gather": {
          "logged": 1618734561180
        }
      }
    },
    {
      "cell_type": "code",
      "source": [
        "normalized_test_n = np.concatenate((normalized_test, look_arr), axis=0)"
      ],
      "outputs": [],
      "execution_count": 57,
      "metadata": {
        "id": "iK8KGjoXsO8O",
        "gather": {
          "logged": 1618734567028
        }
      }
    },
    {
      "cell_type": "markdown",
      "source": [
        "## LTSM model (K-fold cross-validation) "
      ],
      "metadata": {
        "id": "OPIcq_gpEkT7"
      }
    },
    {
      "cell_type": "code",
      "source": [
        "X_train, X_valid, Y_train, Y_valid = train_test_split(normalized_feature, normalized_target, test_size=0.3)"
      ],
      "outputs": [],
      "execution_count": 39,
      "metadata": {
        "id": "07tH0DpYubh-",
        "gather": {
          "logged": 1618713146138
        }
      }
    },
    {
      "cell_type": "code",
      "source": [
        "normalized_test_n.shape"
      ],
      "outputs": [
        {
          "output_type": "execute_result",
          "execution_count": 46,
          "data": {
            "text/plain": "(219254, 48)"
          },
          "metadata": {}
        }
      ],
      "execution_count": 46,
      "metadata": {
        "colab": {
          "base_uri": "https://localhost:8080/"
        },
        "id": "o0VoKCCvu0dC",
        "outputId": "7156f559-b4f0-4f25-ceac-eed705e73c8a",
        "gather": {
          "logged": 1618713305787
        }
      }
    },
    {
      "cell_type": "code",
      "source": [
        "look_back = 60*12*5\n",
        "num_feature = 48\n",
        "y_dummy = np.zeros(219254, )\n",
        "train_generator = TimeseriesGenerator(X_train, Y_train,length=look_back,sampling_rate=1,stride=1, batch_size=32)\n",
        "valid_generator = TimeseriesGenerator(X_valid, Y_valid,length=look_back,sampling_rate=1,stride=1, batch_size=32)\n",
        "test_generator = TimeseriesGenerator(normalized_test_n, y_dummy,length=look_back,sampling_rate=1,stride=1, batch_size=32)"
      ],
      "outputs": [],
      "execution_count": 59,
      "metadata": {
        "id": "FWP521RLtMKu",
        "gather": {
          "logged": 1618734594869
        }
      }
    },
    {
      "cell_type": "code",
      "source": [
        "with tf.device('/GPU:0'):\n",
        "    model = Sequential()\n",
        "    model.add(CuDNNLSTM(128,recurrent_initializer='orthogonal',input_shape=(look_back, num_feature),return_sequences=True))\n",
        "    model.add(LeakyReLU(alpha=0.25))\n",
        "    model.add(CuDNNLSTM(128,return_sequences=True))\n",
        "    model.add(LeakyReLU(alpha=0.1))\n",
        "    model.add(Dropout(0.2))\n",
        "    model.add(CuDNNLSTM(128,return_sequences=False))\n",
        "    model.add(Dropout(0.2))\n",
        "    model.add(Dense(4))"
      ],
      "outputs": [],
      "execution_count": 44,
      "metadata": {
        "id": "i04BcBuHgBl1",
        "gather": {
          "logged": 1618713265548
        }
      }
    },
    {
      "cell_type": "code",
      "source": [
        "callback = EarlyStopping(\n",
        "    monitor=\"val_loss\",\n",
        "    min_delta=0,\n",
        "    patience=3,\n",
        "    verbose=0,\n",
        "    mode=\"auto\",\n",
        "    baseline=None,\n",
        "    restore_best_weights=False,\n",
        ")\n",
        "checkpointer = ModelCheckpoint(\n",
        "    filepath=os.path.join(\"models\", \"weights.hdf5\"),\n",
        "    monitor=\"val_accuracy\",\n",
        "    verbose=0,\n",
        "    save_best_only=True)\n",
        "model.compile(loss='mean_squared_error', optimizer='adam', weighted_metrics = [MeanAbsoluteError()] ) "
      ],
      "outputs": [],
      "execution_count": 48,
      "metadata": {
        "id": "w-bWBnoB1Pbn",
        "gather": {
          "logged": 1618713377032
        }
      }
    },
    {
      "cell_type": "code",
      "source": [
        "model.fit_generator(train_generator, validation_data = valid_generator,epochs=10,callbacks = [checkpointer])"
      ],
      "outputs": [
        {
          "output_type": "stream",
          "name": "stdout",
          "text": [
            "WARNING:tensorflow:From <ipython-input-49-8aa8efe3d190>:1: Model.fit_generator (from tensorflow.python.keras.engine.training) is deprecated and will be removed in a future version.\n",
            "Instructions for updating:\n",
            "Please use Model.fit, which supports generators.\n",
            "WARNING:tensorflow:sample_weight modes were coerced from\n",
            "  ...\n",
            "    to  \n",
            "  ['...']\n",
            "WARNING:tensorflow:sample_weight modes were coerced from\n",
            "  ...\n",
            "    to  \n",
            "  ['...']\n",
            "Train for 1226 steps, validate for 461 steps\n",
            "Epoch 1/10\n",
            "1225/1226 [============================>.] - ETA: 1s - loss: 1.8315e-05 - mean_absolute_error: 0.0023WARNING:tensorflow:Can save best model only with val_accuracy available, skipping.\b\b\b\b\b\b\b\b\b\b\b\b\b\b\b\b\b\b\b\b\b\b\b\b\b\b\b\b\b\n",
            "1226/1226 [==============================] - 1828s 1s/step - loss: 1.8307e-05 - mean_absolute_error: 0.0023 - val_loss: 1.3579e-05 - val_mean_absolute_error: 0.0019\n",
            "Epoch 2/10\n",
            "1225/1226 [============================>.] - ETA: 1s - loss: 1.1795e-05 - mean_absolute_error: 0.0021WARNING:tensorflow:Can save best model only with val_accuracy available, skipping.\b\b\b\b\b\b\b\b\b\b\b\b\b\b\b\b\b\b\b\b\b\b\b\b\b\n",
            "1226/1226 [==============================] - 1802s 1s/step - loss: 1.1794e-05 - mean_absolute_error: 0.0021 - val_loss: 1.4256e-05 - val_mean_absolute_error: 0.0021\n",
            "Epoch 3/10\n",
            "1225/1226 [============================>.] - ETA: 1s - loss: 1.1620e-05 - mean_absolute_error: 0.0021WARNING:tensorflow:Can save best model only with val_accuracy available, skipping.\b\b\b\b\b\b\b\b\b\b\b\b\b\b\b\b\b\b\b\b\b\b\b\b\b\n",
            "1226/1226 [==============================] - 1802s 1s/step - loss: 1.1613e-05 - mean_absolute_error: 0.0021 - val_loss: 1.3839e-05 - val_mean_absolute_error: 0.0019\n",
            "Epoch 4/10\n",
            "1225/1226 [============================>.] - ETA: 1s - loss: 1.1312e-05 - mean_absolute_error: 0.0020WARNING:tensorflow:Can save best model only with val_accuracy available, skipping.\b\b\b\b\b\b\b\b\b\b\b\b\b\b\b\b\b\b\b\b\b\b\b\b\b\n",
            "1226/1226 [==============================] - 1802s 1s/step - loss: 1.1311e-05 - mean_absolute_error: 0.0020 - val_loss: 1.3528e-05 - val_mean_absolute_error: 0.0019\n",
            "Epoch 5/10\n",
            "1225/1226 [============================>.] - ETA: 1s - loss: 1.1060e-05 - mean_absolute_error: 0.0019WARNING:tensorflow:Can save best model only with val_accuracy available, skipping.\b\b\b\b\b\b\b\b\b\b\b\b\b\b\b\b\b\b\b\b\b\b\b\b\b\n",
            "1226/1226 [==============================] - 1802s 1s/step - loss: 1.1056e-05 - mean_absolute_error: 0.0019 - val_loss: 1.3659e-05 - val_mean_absolute_error: 0.0019\n",
            "Epoch 6/10\n",
            "1225/1226 [============================>.] - ETA: 1s - loss: 1.0836e-05 - mean_absolute_error: 0.0019WARNING:tensorflow:Can save best model only with val_accuracy available, skipping.\b\b\b\b\b\b\b\b\b\b\b\b\b\b\b\b\b\b\b\b\b\b\b\b\b\n",
            "1226/1226 [==============================] - 1808s 1s/step - loss: 1.0833e-05 - mean_absolute_error: 0.0019 - val_loss: 1.3359e-05 - val_mean_absolute_error: 0.0018\n",
            "Epoch 7/10\n",
            "1225/1226 [============================>.] - ETA: 1s - loss: 1.0722e-05 - mean_absolute_error: 0.0019WARNING:tensorflow:Can save best model only with val_accuracy available, skipping.\b\b\b\b\b\b\b\b\b\b\b\b\b\b\b\b\b\b\b\b\b\b\b\b\b\n",
            "1226/1226 [==============================] - 1806s 1s/step - loss: 1.0720e-05 - mean_absolute_error: 0.0019 - val_loss: 1.3423e-05 - val_mean_absolute_error: 0.0018\n",
            "Epoch 8/10\n",
            "1225/1226 [============================>.] - ETA: 1s - loss: 1.0661e-05 - mean_absolute_error: 0.0018WARNING:tensorflow:Can save best model only with val_accuracy available, skipping.\b\b\b\b\b\b\b\b\b\b\b\b\b\b\b\b\b\b\b\b\b\b\b\b\b\n",
            "1226/1226 [==============================] - 1801s 1s/step - loss: 1.0671e-05 - mean_absolute_error: 0.0018 - val_loss: 1.3346e-05 - val_mean_absolute_error: 0.0018\n",
            "Epoch 9/10\n",
            "1225/1226 [============================>.] - ETA: 1s - loss: 1.0671e-05 - mean_absolute_error: 0.0018WARNING:tensorflow:Can save best model only with val_accuracy available, skipping.\b\b\b\b\b\b\b\b\b\b\b\b\b\b\b\b\b\b\b\b\b\b\b\b\b\n",
            "1226/1226 [==============================] - 1804s 1s/step - loss: 1.0673e-05 - mean_absolute_error: 0.0018 - val_loss: 1.3438e-05 - val_mean_absolute_error: 0.0018\n",
            "Epoch 10/10\n",
            "1225/1226 [============================>.] - ETA: 1s - loss: 1.0654e-05 - mean_absolute_error: 0.0018WARNING:tensorflow:Can save best model only with val_accuracy available, skipping.\b\b\b\b\b\b\b\b\b\b\b\b\b\b\b\b\b\b\b\b\b\b\b\b\b\n",
            "1226/1226 [==============================] - 1802s 1s/step - loss: 1.0649e-05 - mean_absolute_error: 0.0018 - val_loss: 1.3566e-05 - val_mean_absolute_error: 0.0019\n"
          ]
        },
        {
          "output_type": "execute_result",
          "execution_count": 49,
          "data": {
            "text/plain": "<tensorflow.python.keras.callbacks.History at 0x7fd7e9f4b748>"
          },
          "metadata": {}
        }
      ],
      "execution_count": 49,
      "metadata": {
        "collapsed": true,
        "jupyter": {
          "source_hidden": false,
          "outputs_hidden": false
        },
        "nteract": {
          "transient": {
            "deleting": false
          }
        },
        "gather": {
          "logged": 1618731433461
        }
      }
    },
    {
      "cell_type": "code",
      "source": [
        "model.save('my_model_v2.h5') "
      ],
      "outputs": [],
      "execution_count": 74,
      "metadata": {
        "id": "KCoO7v0FNFTI",
        "gather": {
          "logged": 1618738851794
        }
      }
    },
    {
      "cell_type": "markdown",
      "source": [
        "## Submission"
      ],
      "metadata": {
        "id": "jLeW5H4FisFy"
      }
    },
    {
      "cell_type": "code",
      "source": [
        "prediction = model.predict(test_generator)"
      ],
      "outputs": [],
      "execution_count": 61,
      "metadata": {
        "id": "32eIC1Lrqg8l",
        "gather": {
          "logged": 1618737631853
        }
      }
    },
    {
      "cell_type": "code",
      "source": [
        "prediction.shape"
      ],
      "outputs": [
        {
          "output_type": "execute_result",
          "execution_count": 62,
          "data": {
            "text/plain": "(215654, 4)"
          },
          "metadata": {}
        }
      ],
      "execution_count": 62,
      "metadata": {
        "collapsed": true,
        "jupyter": {
          "source_hidden": false,
          "outputs_hidden": false
        },
        "nteract": {
          "transient": {
            "deleting": false
          }
        },
        "gather": {
          "logged": 1618738479692
        }
      }
    },
    {
      "cell_type": "code",
      "source": [
        "submit_arr= np.reshape(prediction, (np.product(prediction.shape),))"
      ],
      "outputs": [],
      "execution_count": 88,
      "metadata": {
        "id": "VFFyr4wCHTYR",
        "gather": {
          "logged": 1618739953106
        }
      }
    },
    {
      "cell_type": "code",
      "source": [
        "submit_arr.shape"
      ],
      "outputs": [
        {
          "output_type": "execute_result",
          "execution_count": 89,
          "data": {
            "text/plain": "(862616,)"
          },
          "metadata": {}
        }
      ],
      "execution_count": 89,
      "metadata": {
        "collapsed": true,
        "jupyter": {
          "source_hidden": false,
          "outputs_hidden": false
        },
        "nteract": {
          "transient": {
            "deleting": false
          }
        },
        "gather": {
          "logged": 1618739958989
        }
      }
    },
    {
      "cell_type": "code",
      "source": [
        "submit_arr = np.argmax(submit_arr)"
      ],
      "outputs": [],
      "execution_count": 85,
      "metadata": {
        "collapsed": true,
        "jupyter": {
          "source_hidden": false,
          "outputs_hidden": false
        },
        "nteract": {
          "transient": {
            "deleting": false
          }
        },
        "gather": {
          "logged": 1618739915817
        }
      }
    },
    {
      "cell_type": "code",
      "source": [
        "len(np.arange(4892866,5755482))"
      ],
      "outputs": [
        {
          "output_type": "execute_result",
          "execution_count": 90,
          "data": {
            "text/plain": "862616"
          },
          "metadata": {}
        }
      ],
      "execution_count": 90,
      "metadata": {
        "collapsed": true,
        "jupyter": {
          "source_hidden": false,
          "outputs_hidden": false
        },
        "nteract": {
          "transient": {
            "deleting": false
          }
        },
        "gather": {
          "logged": 1618739960553
        }
      }
    },
    {
      "cell_type": "code",
      "source": [
        " d = { \"id\":np.arange(4892866,5755482), \"Predicted\": submit_arr}\r\n",
        "\r\n",
        "submit_df = pd.DataFrame(data=d )"
      ],
      "outputs": [],
      "execution_count": 91,
      "metadata": {
        "collapsed": true,
        "jupyter": {
          "source_hidden": false,
          "outputs_hidden": false
        },
        "nteract": {
          "transient": {
            "deleting": false
          }
        },
        "gather": {
          "logged": 1618739962390
        }
      }
    },
    {
      "cell_type": "code",
      "source": [
        "submit_df.head()"
      ],
      "outputs": [
        {
          "output_type": "execute_result",
          "execution_count": 92,
          "data": {
            "text/plain": "        id  Predicted\n0  4892866   0.000079\n1  4892867   0.000283\n2  4892868   0.000931\n3  4892869   0.000246\n4  4892870   0.000078",
            "text/html": "<div>\n<style scoped>\n    .dataframe tbody tr th:only-of-type {\n        vertical-align: middle;\n    }\n\n    .dataframe tbody tr th {\n        vertical-align: top;\n    }\n\n    .dataframe thead th {\n        text-align: right;\n    }\n</style>\n<table border=\"1\" class=\"dataframe\">\n  <thead>\n    <tr style=\"text-align: right;\">\n      <th></th>\n      <th>id</th>\n      <th>Predicted</th>\n    </tr>\n  </thead>\n  <tbody>\n    <tr>\n      <th>0</th>\n      <td>4892866</td>\n      <td>0.000079</td>\n    </tr>\n    <tr>\n      <th>1</th>\n      <td>4892867</td>\n      <td>0.000283</td>\n    </tr>\n    <tr>\n      <th>2</th>\n      <td>4892868</td>\n      <td>0.000931</td>\n    </tr>\n    <tr>\n      <th>3</th>\n      <td>4892869</td>\n      <td>0.000246</td>\n    </tr>\n    <tr>\n      <th>4</th>\n      <td>4892870</td>\n      <td>0.000078</td>\n    </tr>\n  </tbody>\n</table>\n</div>"
          },
          "metadata": {}
        }
      ],
      "execution_count": 92,
      "metadata": {
        "collapsed": true,
        "jupyter": {
          "source_hidden": false,
          "outputs_hidden": false
        },
        "nteract": {
          "transient": {
            "deleting": false
          }
        },
        "gather": {
          "logged": 1618739963776
        }
      }
    },
    {
      "cell_type": "code",
      "source": [
        "submit_df.set_index('id', inplace=True)\r\n",
        "extra = [5524547, 5524548, 5524549]\r\n",
        "final_df = submit_df.drop(index=extra)"
      ],
      "outputs": [],
      "execution_count": 68,
      "metadata": {
        "collapsed": true,
        "jupyter": {
          "source_hidden": false,
          "outputs_hidden": false
        },
        "nteract": {
          "transient": {
            "deleting": false
          }
        },
        "gather": {
          "logged": 1618738572711
        }
      }
    },
    {
      "cell_type": "code",
      "source": [
        "result = pd.DataFrame({'Id':np.arange(4892866,5755479), 'Predicted':final_df[\"Predicted\"]},columns=['Id','Predicted'])"
      ],
      "outputs": [],
      "execution_count": 82,
      "metadata": {
        "collapsed": true,
        "jupyter": {
          "source_hidden": false,
          "outputs_hidden": false
        },
        "nteract": {
          "transient": {
            "deleting": false
          }
        },
        "gather": {
          "logged": 1618739401118
        }
      }
    },
    {
      "cell_type": "code",
      "source": [
        "result.head()"
      ],
      "outputs": [
        {
          "output_type": "execute_result",
          "execution_count": 83,
          "data": {
            "text/plain": "              Id  Predicted\nid                         \n4892866  4892866   0.000079\n4892867  4892867   0.000283\n4892868  4892868   0.000931\n4892869  4892869   0.000246\n4892870  4892870   0.000078",
            "text/html": "<div>\n<style scoped>\n    .dataframe tbody tr th:only-of-type {\n        vertical-align: middle;\n    }\n\n    .dataframe tbody tr th {\n        vertical-align: top;\n    }\n\n    .dataframe thead th {\n        text-align: right;\n    }\n</style>\n<table border=\"1\" class=\"dataframe\">\n  <thead>\n    <tr style=\"text-align: right;\">\n      <th></th>\n      <th>Id</th>\n      <th>Predicted</th>\n    </tr>\n    <tr>\n      <th>id</th>\n      <th></th>\n      <th></th>\n    </tr>\n  </thead>\n  <tbody>\n    <tr>\n      <th>4892866</th>\n      <td>4892866</td>\n      <td>0.000079</td>\n    </tr>\n    <tr>\n      <th>4892867</th>\n      <td>4892867</td>\n      <td>0.000283</td>\n    </tr>\n    <tr>\n      <th>4892868</th>\n      <td>4892868</td>\n      <td>0.000931</td>\n    </tr>\n    <tr>\n      <th>4892869</th>\n      <td>4892869</td>\n      <td>0.000246</td>\n    </tr>\n    <tr>\n      <th>4892870</th>\n      <td>4892870</td>\n      <td>0.000078</td>\n    </tr>\n  </tbody>\n</table>\n</div>"
          },
          "metadata": {}
        }
      ],
      "execution_count": 83,
      "metadata": {
        "id": "BRxp2_bHdo45",
        "gather": {
          "logged": 1618739402414
        }
      }
    },
    {
      "cell_type": "code",
      "source": [
        "result.set_index('Id', inplace=True)\n",
        "result.to_csv('Result.csv',index=True)"
      ],
      "outputs": [],
      "execution_count": 84,
      "metadata": {
        "id": "0b-nJstJuTGe",
        "gather": {
          "logged": 1618739413461
        }
      }
    }
  ],
  "metadata": {
    "accelerator": "GPU",
    "colab": {
      "name": "LSTM MSBD5013",
      "provenance": []
    },
    "kernelspec": {
      "name": "python3",
      "language": "python",
      "display_name": "Python 3"
    },
    "language_info": {
      "name": "python",
      "version": "3.6.9",
      "mimetype": "text/x-python",
      "codemirror_mode": {
        "name": "ipython",
        "version": 3
      },
      "pygments_lexer": "ipython3",
      "nbconvert_exporter": "python",
      "file_extension": ".py"
    },
    "kernel_info": {
      "name": "python3"
    },
    "microsoft": {
      "host": {
        "AzureML": {
          "notebookHasBeenCompleted": true
        }
      }
    },
    "nteract": {
      "version": "nteract-front-end@1.0.0"
    }
  },
  "nbformat": 4,
  "nbformat_minor": 0
}